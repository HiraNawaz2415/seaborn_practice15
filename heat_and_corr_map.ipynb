{
 "cells": [
  {
   "cell_type": "markdown",
   "metadata": {},
   "source": [
    "# Heat Map\n",
    "A heat map is a way to show data using colors. It helps us quickly see where values are high or low.\n",
    "- **Warm colors (red/yellow)** = High values\n",
    "- **Cool colors (blue/green)** = Low values\n",
    "\n",
    "It is a way to show **intensity and density** of data."
   ]
  },
  {
   "cell_type": "markdown",
   "metadata": {},
   "source": [
    "## How Does It Work?\n",
    "- 🔴 Red / 🟠 Orange / 🟡 Yellow = High values\n",
    "- 🔵 Blue / 🟢 Green = Low values"
   ]
  },
  {
   "cell_type": "markdown",
   "metadata": {},
   "source": [
    "## Why is a Heat Map Used?\n",
    "- 📊 Pattern Recognition: Identify trends, clusters, and outliers\n",
    "- 📈 Data Density Visualization: Compact display of dense data\n",
    "- 📉 Performance Monitoring: Visualize business/fitness/system metrics\n",
    "- 🌍 Geospatial Analysis: Show population/weather/disease data\n",
    "- 🖱 User Behavior Analysis: Track clicks, interactions, eye-tracking\n",
    "- 🧠 Medical Imaging: Brain scans, disease detection"
   ]
  },
  {
   "cell_type": "markdown",
   "metadata": {},
   "source": [
    "## Example in a Fitness App\n",
    "**Heatmap showing when a user walks the most:**\n",
    "- 8 AM - 10 AM 🔴 (More steps)\n",
    "- 2 PM - 4 PM 🟡 (Medium steps)\n",
    "- 8 PM - 10 PM 🔵 (Fewer steps)"
   ]
  },
  {
   "cell_type": "code",
   "execution_count": null,
   "metadata": {},
   "outputs": [],
   "source": [
    "import seaborn as sns\n",
    "import numpy as np\n",
    "import matplotlib.pyplot as plt\n",
    "\n",
    "# Create random data\n",
    "data = np.random.rand(5, 5)\n",
    "\n",
    "# Create heatmap\n",
    "sns.heatmap(data, cmap=\"coolwarm\", annot=True)\n",
    "plt.title(\"Random Data Heatmap\")\n",
    "plt.show()"
   ]
  },
  {
   "cell_type": "markdown",
   "metadata": {},
   "source": [
    "## Correlation Map (Heatmap)\n",
    "Shows relationships between numeric variables using correlation coefficients:\n",
    "- `+1` → Perfect positive correlation\n",
    "- `0` → No correlation\n",
    "- `-1` → Perfect negative correlation"
   ]
  },
  {
   "cell_type": "code",
   "execution_count": null,
   "metadata": {},
   "outputs": [],
   "source": [
    "# Load dataset\n",
    "df = sns.load_dataset(\"penguins\")\n",
    "\n",
    "# Compute correlation matrix\n",
    "corr_matrix = df.corr(numeric_only=True)\n",
    "\n",
    "# Create heatmap\n",
    "sns.heatmap(corr_matrix, cmap=\"viridis\", annot=True, linewidths=0.5)\n",
    "plt.title(\"Penguins Correlation Heatmap\")\n",
    "plt.show()"
   ]
  },
  {
   "cell_type": "code",
   "execution_count": null,
   "metadata": {},
   "outputs": [],
   "source": [
    "# Mask upper triangle\n",
    "mask = np.triu(np.ones_like(corr_matrix, dtype=bool))\n",
    "\n",
    "# Customized correlation heatmap\n",
    "plt.figure(figsize=(8,6))\n",
    "sns.heatmap(corr_matrix, annot=True, cmap=\"viridis\", linewidths=1, mask=mask, square=True)\n",
    "plt.title(\"Masked Correlation Heatmap\")\n",
    "plt.show()"
   ]
  },
  {
   "cell_type": "markdown",
   "metadata": {},
   "source": [
    "## Missing Data Visualization"
   ]
  },
  {
   "cell_type": "code",
   "execution_count": null,
   "metadata": {},
   "outputs": [],
   "source": [
    "# Load Titanic dataset\n",
    "titanic = sns.load_dataset(\"titanic\")\n",
    "\n",
    "# Visualize missing values\n",
    "plt.figure(figsize=(8,5))\n",
    "sns.heatmap(titanic.isnull(), cmap=\"Reds\", cbar=False)\n",
    "plt.title(\"Missing Data in Titanic Dataset\")\n",
    "plt.show()"
   ]
  }
 ],
 "metadata": {
  "kernelspec": {
   "display_name": "Python 3",
   "language": "python",
   "name": "python3"
  },
  "language_info": {
   "name": "python",
   "version": ""
  }
 },
 "nbformat": 4,
 "nbformat_minor": 5
}
