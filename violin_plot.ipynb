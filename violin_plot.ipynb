{
 "cells": [
  {
   "cell_type": "markdown",
   "metadata": {},
   "source": [
    "## e) Violin Plot\n",
    "\n",
    "A **Violin Plot** is a mix of a **Box Plot** and a **KDE Plot**.\n",
    "\n",
    "Like a box plot, it shows median, quartiles, and range.\n",
    "Like a KDE plot, it shows the distribution of the data as a smooth shape.\n",
    "It helps to understand the spread of data and see where values are concentrated."
   ]
  },
  {
   "cell_type": "code",
   "execution_count": null,
   "metadata": {},
   "outputs": [],
   "source": [
    "# Create a violin plot with red color\n",
    "sns.violinplot(x='day', y='total_bill', data=df, color='red')\n",
    "\n",
    "# Show the plot\n",
    "plt.show()"
   ]
  },
  {
   "cell_type": "markdown",
   "metadata": {},
   "source": [
    "<h4>Instead of color, you can use palette to set different colors for different categories.</h4>"
   ]
  },
  {
   "cell_type": "code",
   "execution_count": null,
   "metadata": {},
   "outputs": [],
   "source": [
    "# Create a violin plot with palette for gender differentiation\n",
    "sns.violinplot(x='day', y='total_bill', data=df, hue='sex', palette='Reds')\n",
    "\n",
    "# Show the plot\n",
    "plt.show()"
   ]
  },
  {
   "cell_type": "markdown",
   "metadata": {},
   "source": [
    "<b>Summary</b>\n",
    "It creates a violin plot:\n",
    "\n",
    "- `x='day'` → Groups data by days (Thur, Fri, Sat, Sun).\n",
    "- `y='total_bill'` → Shows total bill amount for each day.\n",
    "- `hue='sex'` → Separates Male & Female customers.\n",
    "- `split=True` → Shows both genders in the same violin shape (split view).\n",
    "- `palette='Reds'` → Colors the plot in red shades."
   ]
  }
 ],
 "metadata": {
  "kernelspec": {
   "display_name": "Python 3",
   "language": "python",
   "name": "python3"
  },
  "language_info": {
   "name": "python"
  }
 },
 "nbformat": 4,
 "nbformat_minor": 5
}
