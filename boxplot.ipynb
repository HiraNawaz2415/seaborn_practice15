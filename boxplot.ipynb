{
 "cells": [
  {
   "cell_type": "markdown",
   "metadata": {},
   "source": [
    "## 📦 d) Box Plot\n",
    "\n",
    "A **Box Plot** is used to show the spread and distribution of numerical data. It helps in identifying:\n",
    "- **Outliers**\n",
    "- **Median**\n",
    "- **Variability (spread)**\n",
    "\n",
    "### 🔍 A Box Plot Consists Of:\n",
    "- **Box** → Shows the middle 50% of the data (from the 25th to the 75th percentile).\n",
    "- **Line inside the box** → Represents the median (middle value).\n",
    "- **Whiskers** → Extend from the box to show the range (excluding outliers).\n",
    "- **Dots outside the whiskers** → Represent outliers (unusually high/low values)."
   ]
  },
  {
   "cell_type": "code",
   "execution_count": null,
   "metadata": {},
   "outputs": [],
   "source": [
    "# Import libraries\n",
    "import seaborn as sns\n",
    "import matplotlib.pyplot as plt\n",
    "\n",
    "# %matplotlib inline to ensure inline plotting in Jupyter\n",
    "%matplotlib inline\n",
    "\n",
    "# Load dataset\n",
    "df = sns.load_dataset('tips')\n",
    "\n",
    "# Set Seaborn styling\n",
    "sns.set_style('darkgrid')\n",
    "sns.set_palette('coolwarm')\n",
    "\n",
    "# Create the box plot\n",
    "sns.boxplot(x='day', y='total_bill', data=df, hue='sex', palette='coolwarm', showmeans=True)\n",
    "\n",
    "# Add title and fix legend\n",
    "plt.title('Box Plot of Total Bill by Day and Gender')\n",
    "plt.legend(title='Sex')\n",
    "plt.show()"
   ]
  },
  {
   "cell_type": "markdown",
   "metadata": {},
   "source": [
    "### ✅ Interpretation:\n",
    "- `x='day'` → Groups data by day of the week.\n",
    "- `y='total_bill'` → Displays total bill values.\n",
    "- `hue='sex'` → Separates data by gender.\n",
    "- `showmeans=True` → Adds the mean as a diamond marker.\n",
    "\n",
    "### 📊 What This Box Plot Shows:\n",
    "- **Compares** total bill amounts across different days of the week.\n",
    "- Highlights **which days have higher/lower spending** on average.\n",
    "- Shows **outliers** (unusually high or low bills).\n",
    "- Useful for detecting **spending trends** and **gender-based patterns**."
   ]
  }
 ]
}

