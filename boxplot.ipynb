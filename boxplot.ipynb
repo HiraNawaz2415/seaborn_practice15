{
 "cells": [
  {
   "cell_type": "markdown",
   "metadata": {},
   "source": [
    "## d) Box Plot\n",
    "\n",
    "A **Box Plot** is used to show the spread and distribution of numerical data. It helps in identifying outliers, median, and variability in data.\n",
    "\n",
    "**A box plot consists of:**\n",
    "\n",
    "- **Box** → Shows the middle 50% of the data (from the 25th to the 75th percentile).\n",
    "- **Line inside the box** → Represents the median (middle value).\n",
    "- **Whiskers** (lines extending from the box) → Show the minimum and maximum values (excluding outliers).\n",
    "- **Dots outside the whiskers** → Represent outliers (values that are very high or very low compared to most of the data)."
   ]
  },
  {
   "cell_type": "code",
   "execution_count": null,
   "metadata": {},
   "outputs": [],
   "source": [
    "# Import libraries\n",
    "import seaborn as sns\n",
    "import matplotlib.pyplot as plt\n",
    "\n",
    "# Load the dataset\n",
    "df = sns.load_dataset('tips')\n",
    "\n",
    "# Create the Box Plot\n",
    "sns.boxplot(x='day', y='total_bill', data=df, hue='sex', palette='coolwarm', showmeans=True)\n",
    "\n",
    "# Customize the plot\n",
    "plt.legend(False)\n",
    "sns.set_style('darkgrid')\n",
    "sns.set_palette('coolwarm')\n",
    "\n",
    "# Show the plot\n",
    "plt.show()"
   ]
  }
 ],
 "metadata": {
  "kernelspec": {
   "display_name": "Python 3",
   "language": "python",
   "name": "python3"
  },
  "language_info": {
   "name": "python"
  }
 },
 "nbformat": 4,
 "nbformat_minor": 5
}
