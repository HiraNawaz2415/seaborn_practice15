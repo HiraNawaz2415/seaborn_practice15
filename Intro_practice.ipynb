{
 "cells": [
  {
   "cell_type": "markdown",
   "metadata": {},
   "source": [
    "# Introduction to Seaborn\n",
    "\n",
    "Seaborn is a powerful Python library for data visualization, built on top of Matplotlib. It provides a high-level interface for drawing attractive and informative statistical graphics."
   ]
  },
  {
   "cell_type": "markdown",
   "metadata": {},
   "source": [
    "### Why Use Seaborn?\n",
    "- Provides built-in themes for better aesthetics.\n",
    "- Works well with Pandas DataFrames.\n",
    "- Simplifies statistical plots with minimal code.\n",
    "- Supports advanced visualizations like heatmaps, violin plots, and pair plots."
   ]
  },
  {
   "cell_type": "markdown",
   "metadata": {},
   "source": [
    "## Seaborn’s Built-in Datasets\n",
    "Seaborn comes with several built-in datasets that can be loaded using:\n",
    "\n",
    "`sns.get_dataset_names()`"
   ]
  },
  {
   "cell_type": "markdown",
   "metadata": {},
   "source": [
    "**Example:**\n",
    "\n",
    "The `tips` dataset is loaded using `sns.load_dataset('tips')`.\n",
    "\n",
    "This dataset contains information about restaurant bills, including:\n",
    "- `total_bill`: Total amount of the bill.\n",
    "- `tip`: Tip given.\n",
    "- `sex`, `smoker`, `day`, `time`, `size`: Other categorical details."
   ]
  },
  {
   "cell_type": "code",
   "execution_count": null,
   "metadata": {},
   "outputs": [],
   "source": [
    "import seaborn as sns\n",
    "\n",
    "# Example of loading a dataset:\n",
    "df = sns.load_dataset('tips')\n",
    "print(df.head())"
   ]
  }
 ],
 "metadata": {
  "kernelspec": {
   "display_name": "Python 3",
   "language": "python",
   "name": "python3"
  },
  "language_info": {
   "name": "python",
   "version": ""
  }
 },
 "nbformat": 4,
 "nbformat_minor": 5
}
