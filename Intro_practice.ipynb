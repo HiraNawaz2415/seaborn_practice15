 <h1>Introduction to Seaborn</h1>
Seaborn is a powerful Python library for data visualization, built on top of Matplotlib. It provides high-level interface for drawing attractive and informative statistical graphics.

Why Use Seaborn?
Provides built-in themes for better aesthetics.
Works well with Pandas DataFrames.
Simplifies statistical plots with minimal code.
Supports advanced visualizations like heatmaps, violin plots, and pair plots.
<h2>Seaborn’s Built-in Datasets</h2>
Seaborn comes with several built-in datasets that can be loaded using:
<b>sns.get_dataset_names()</b>
<b> Example</b>
The tips dataset is loaded using sns.load_dataset('tips').
This dataset contains information about restaurant bills, including:
total_bill: Total amount of the bill.
tip: Tip given.
sex, smoker, day, time, size: Other categorical details.
#Example of loading a dataset:
df = sns.load_dataset('tips')
print(df.head())
# Import seaborn
import seaborn as sns

# Apply the default theme
sns.set_theme()

# Load an example dataset
tips = sns.load_dataset("tips")

# Create a visualization
sns.relplot(
    data=tips,
    x="total_bill", y="tip", col="time",
    hue="smoker", style="smoker", size="size",
)
