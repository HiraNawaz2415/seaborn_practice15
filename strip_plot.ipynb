{
 "cells": [
  {
   "cell_type": "markdown",
   "metadata": {},
   "source": [
    "## Strip Plot\n",
    "\n",
    "A **strip plot** in Seaborn is used to show the distribution of a numerical variable against a categorical variable. It plots individual data points as small dots or markers along a category, helping to see how values are spread.\n",
    "It is useful for summarizing univariate data."
   ]
  },
  {
   "cell_type": "code",
   "execution_count": null,
   "metadata": {},
   "outputs": [],
   "source": [
    "# Create a strip plot\n",
    "sns.stripplot(x='day', y='total_bill', data=df)\n",
    "plt.show()"
   ]
  },
  {
   "cell_type": "code",
   "execution_count": null,
   "metadata": {},
   "outputs": [],
   "source": [
    "# Create a strip plot with hue separation (sex) and jitter\n",
    "sns.stripplot(x='day', y='total_bill', hue='sex', data=df, jitter=0.2, dodge=True)\n",
    "plt.show()"
   ]
  },
  {
   "cell_type": "code",
   "execution_count": null,
   "metadata": {},
   "outputs": [],
   "source": [
    "# Create a boxplot and overlay it with a strip plot for comparison\n",
    "sns.boxplot(x='day', y='total_bill', data=df)\n",
    "sns.stripplot(x='day', y='total_bill', data=df, color='black', jitter=True, dodge=True)\n",
    "plt.show()"
   ]
  }
 ],
 "metadata": {
  "kernelspec": {
   "display_name": "Python 3",
   "language": "python",
   "name": "python3"
  },
  "language_info": {
   "name": "python"
  }
 },
 "nbformat": 4,
 "nbformat_minor": 5
}
