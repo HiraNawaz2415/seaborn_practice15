{
 "cells": [
  {
   "cell_type": "markdown",
   "metadata": {},
   "source": [
    "## Seaborn Theme Customization\n",
    "\n",
    "**Context (context)** – Adjusts the size of elements like labels and titles.\n",
    "- `\"paper\"` → Small plots for reports\n",
    "- `\"notebook\"` → Default size for Jupyter notebooks\n",
    "- `\"talk\"` → Bigger text for presentations\n",
    "- `\"poster\"` → Very large elements for posters\n",
    "\n",
    "**Style (style)** – Changes the background and grid lines of the plot:\n",
    "- `\"darkgrid\"` → Grid on a dark background (default)\n",
    "- `\"whitegrid\"` → Light background with grid\n",
    "- `\"white\"` → Simple white background\n",
    "- `\"ticks\"` → Minimalist style with tick marks\n",
    "\n",
    "**Palette (palette)** – Defines the color scheme:\n",
    "- `\"deep\"`, `\"pastel\"`, `\"muted\"`, `\"bright\"`\n",
    "\n",
    "**Font (font)** – Specifies the font family:\n",
    "- `\"sans-serif\"` (default)\n",
    "\n",
    "**Font Scale (font_scale)** – Adjusts text size:\n",
    "- Example: `font_scale=1.5` makes text 50% larger\n",
    "\n",
    "**Color Codes (color_codes)** – If `True`, standard color letters use Seaborn’s palette.\n",
    "\n",
    "**Custom Settings (rc)** – Allows detailed plot customization like borders, grid lines, etc."
   ]
  },
  {
   "cell_type": "code",
   "execution_count": null,
   "metadata": {},
   "outputs": [],
   "source": [
    "# 1. Use Default Seaborn Theme\n",
    "import seaborn as sns\n",
    "import matplotlib.pyplot as plt\n",
    "\n",
    "sns.set_theme()  # Apply the default theme\n",
    "sns.barplot(x=[\"A\", \"B\", \"C\"], y=[1, 3, 2])\n",
    "plt.show()"
   ]
  },
  {
   "cell_type": "code",
   "execution_count": null,
   "metadata": {},
   "outputs": [],
   "source": [
    "# 2. Light Background with Pastel Colors\n",
    "sns.set_theme(style=\"whitegrid\", palette=\"pastel\")\n",
    "sns.barplot(x=[\"A\", \"B\", \"C\"], y=[1, 3, 2])\n",
    "plt.show()"
   ]
  },
  {
   "cell_type": "code",
   "execution_count": null,
   "metadata": {},
   "outputs": [],
   "source": [
    "# 3. Minimalist Look (No Top/Right Borders)\n",
    "custom_params = {\"axes.spines.right\": False, \"axes.spines.top\": False}\n",
    "sns.set_theme(style=\"ticks\", rc=custom_params)\n",
    "sns.barplot(x=[\"A\", \"B\", \"C\"], y=[1, 3, 2])\n",
    "plt.show()"
   ]
  },
  {
   "cell_type": "code",
   "execution_count": null,
   "metadata": {},
   "outputs": [],
   "source": [
    "# seaborn.set_style() changes the background and grid\n",
    "sns.set_style(\"darkgrid\", {\"grid.color\": \".6\", \"grid.linestyle\": \":\"})\n",
    "sns.lineplot(x=[\"A\", \"B\", \"C\"], y=[1, 3, 2])\n",
    "plt.show()"
   ]
  }
 ],
 "metadata": {
  "kernelspec": {
   "display_name": "Python 3",
   "language": "python",
   "name": "python3"
  },
  "language_info": {
   "name": "python",
   "version": ""
  }
 },
 "nbformat": 4,
 "nbformat_minor": 5
}
