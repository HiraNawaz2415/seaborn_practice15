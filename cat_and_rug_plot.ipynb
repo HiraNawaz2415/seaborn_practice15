{
 "cells": [
  {
   "cell_type": "markdown",
   "metadata": {},
   "source": [
    "## CatPlot\n",
    "\n",
    "The `catplot()` function (short for Categorical Plot) in Seaborn is used to create category-based visualizations in a simple way. It allows you to create different types of plots for categorical data, like strip plots, swarm plots, box plots, bar plots, and more, all using a single function.\n",
    "\n",
    "### Why is `catplot()` used?\n",
    "✅ **Flexible** → Can create multiple types of plots (bar, box, strip, swarm, etc.).\n",
    "✅ **Easier to Use** → Instead of using different functions like `sns.boxplot()` or `sns.barplot()`, you can use one function (`catplot()`) and just change the plot type.\n",
    "✅ **Works Well with Large Data** → Uses a special format (FacetGrid) to handle large datasets easily.\n",
    "✅ **Supports Faceting** → Allows you to create multiple subplots by splitting data based on a column.\n",
    "\n",
    "### Available Plot Types\n",
    "You can change the `kind` argument to get different types of plots:\n",
    "\n",
    "| kind Value | Plot Type       |\n",
    "|------------|-----------------|\n",
    "| 'strip'    | Strip Plot      |\n",
    "| 'swarm'    | Swarm Plot      |\n",
    "| 'box'      | Box Plot        |\n",
    "| 'violin'   | Violin Plot     |\n",
    "| 'bar'      | Bar Plot        |\n",
    "| 'point'    | Point Plot      |\n",
    "\n",
    "### When to Use `catplot()`?\n",
    "- When you need to quickly switch between different categorical plots.\n",
    "- When you want to compare multiple categories with different visual styles.\n",
    "- When working with large datasets and need faceting (multiple small plots)."
   ]
  },
  {
   "cell_type": "code",
   "execution_count": null,
   "metadata": {},
   "outputs": [],
   "source": [
    "import seaborn as sns\n",
    "import matplotlib.pyplot as plt\n",
    "\n",
    "# Load dataset\n",
    "df = sns.load_dataset('tips')\n",
    "\n",
    "# Create catplot with 'bar' kind\n",
    "sns.catplot(x='day', y='total_bill', data=df, kind='bar')\n",
    "plt.show()"
   ]
  },
  {
   "cell_type": "code",
   "execution_count": null,
   "metadata": {},
   "outputs": [],
   "source": [
    "# Create catplot with 'swarm' kind\n",
    "sns.catplot(x='day', y='total_bill', data=df, kind='swarm')\n",
    "plt.show()"
   ]
  },
  {
   "cell_type": "markdown",
   "metadata": {},
   "source": [
    "## What is a Rug Plot?\n",
    "\n",
    "A **rug plot** is a simple chart that shows individual data points along an axis. It places small marks (like short lines or \"rugs\") on the x-axis (or y-axis) to show where the data points are located.\n",
    "\n",
    "Think of it like dropping sticks on a number line to see where values appear most often.\n",
    "\n",
    "### When to Use a Rug Plot?\n",
    "- When you want to see raw data points without grouping them.\n",
    "- When working with small datasets (large datasets can look messy).\n",
    "- When combining with other plots like histograms or KDE plots.\n",
    "\n",
    "### Simple Rule:\n",
    "- **Rug Plot** → Shows individual values.\n",
    "- **Histogram/KDE** → Shows overall data distribution.\n",
    "Use together for a better understanding."
   ]
  },
  {
   "cell_type": "code",
   "execution_count": null,
   "metadata": {},
   "outputs": [],
   "source": [
    "import seaborn as sns\n",
    "import matplotlib.pyplot as plt\n",
    "\n",
    "# Load dataset\n",
    "df = sns.load_dataset('tips')\n",
    "\n",
    "# Create Rug Plot (Fix: Pass 'data=df' explicitly)\n",
    "sns.rugplot(x='total_bill', height=0.05, hue='sex', data=df)\n",
    "plt.show()"
   ]
  },
  {
   "cell_type": "code",
   "execution_count": null,
   "metadata": {},
   "outputs": [],
   "source": [
    "# Add another rug plot\n",
    "sns.rugplot(df)\n",
    "plt.show()"
   ]
  },
  {
   "cell_type": "code",
   "execution_count": null,
   "metadata": {},
   "outputs": [],
   "source": [
    "# Add rug plot on y-axis\n",
    "sns.rugplot(y=df['total_bill'])\n",
    "plt.show()"
   ]
  },
  {
   "cell_type": "markdown",
   "metadata": {},
   "source": [
    "### When to Use a Rug Plot?\n",
    "- **✔** When you want to see the exact data points in a dataset.\n",
    "- **✔** When you need a simple way to visualize data concentration.\n",
    "- **✔** When combining with KDE plots for a clearer view.\n",
    "\n",
    "### ⚠ Limitations\n",
    "- **⚠** Too many data points? A rug plot may become cluttered.\n",
    "- **👉 Solution:** Use a KDE plot or a histogram for a clearer view."
   ]
  }
 ],
 "metadata": {
  "kernelspec": {
   "display_name": "Python 3",
   "language": "python",
   "name": "python3"
  },
  "language_info": {
   "name": "python"
  }
 },
 "nbformat": 4,
 "nbformat_minor": 5
}
