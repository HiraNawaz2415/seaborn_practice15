{
 "cells": [
  {
   "cell_type": "markdown",
   "metadata": {},
   "source": [
    "# Basic Plots in Seaborn\n",
    "\n",
    "This notebook demonstrates various types of plots using the Seaborn library with the built-in `tips` dataset."
   ]
  },
  {
   "cell_type": "code",
   "execution_count": null,
   "metadata": {},
   "outputs": [],
   "source": [
    "# Import seaborn and matplotlib\n",
    "import seaborn as sns\n",
    "import matplotlib.pyplot as plt\n",
    "\n",
    "# Apply default theme\n",
    "sns.set_theme()\n",
    "\n",
    "# Load the dataset\n",
    "df = sns.load_dataset(\"tips\")\n",
    "df.head()"
   ]
  },
  {
   "cell_type": "markdown",
   "metadata": {},
   "source": [
    "## a) Relational Plot (relplot)\n",
    "\n",
    "Shows relationship between two variables, split by categorical variables like time and smoker status."
   ]
  },
  {
   "cell_type": "code",
   "execution_count": null,
   "metadata": {},
   "outputs": [],
   "source": [
    "sns.relplot(\n",
    "    data=df,\n",
    "    x=\"total_bill\", y=\"tip\", col=\"time\",\n",
    "    hue=\"smoker\", style=\"smoker\", size=\"size\"\n",
    ")\n",
    "plt.show()"
   ]
  },
  {
   "cell_type": "markdown",
   "metadata": {},
   "source": [
    "## b) Scatter Plot\n",
    "\n",
    "Used for visualizing the relationship between two numeric variables."
   ]
  },
  {
   "cell_type": "code",
   "execution_count": null,
   "metadata": {},
   "outputs": [],
   "source": [
    "sns.scatterplot(x='total_bill', y='tip', data=df)\n",
    "plt.title(\"Basic Scatter Plot\")\n",
    "plt.show()"
   ]
  },
  {
   "cell_type": "markdown",
   "metadata": {},
   "source": [
    "### Adding Color Based on Categorical Data\n",
    "`hue='day'` colors points based on different days."
   ]
  },
  {
   "cell_type": "code",
   "execution_count": null,
   "metadata": {},
   "outputs": [],
   "source": [
    "sns.scatterplot(x='total_bill', y='tip', hue='day', data=df)\n",
    "plt.title(\"Scatter Plot with Hue\")\n",
    "plt.show()"
   ]
  },
  {
   "cell_type": "markdown",
   "metadata": {},
   "source": [
    "## c) Line Plot\n",
    "\n",
    "Useful for visualizing trends over time or relationships between numerical variables.\n",
    "\n",
    "- `x='size'`: Number of people at the table\n",
    "- `y='tip'`: Tip given\n",
    "- `hue='sex'`: Differentiates by gender"
   ]
  },
  {
   "cell_type": "code",
   "execution_count": null,
   "metadata": {},
   "outputs": [],
   "source": [
    "sns.lineplot(x='size', y='tip', hue=\"sex\", data=df, marker='o', ms=8, mec=\"g\")\n",
    "plt.title(\"Tip Amount vs Table Size by Gender\")\n",
    "plt.show()"
   ]
  },
  {
   "cell_type": "markdown",
   "metadata": {},
   "source": [
    "### What This Line Plot Shows\n",
    "- Connects average tip amount for different table sizes.\n",
    "- Helps identify trends (e.g., do bigger tables give bigger tips?)."
   ]
  },
  {
   "cell_type": "markdown",
   "metadata": {},
   "source": [
    "## d) Histogram & KDE Plot\n",
    "\n",
    "- A **Histogram** shows the frequency of value ranges.\n",
    "- A **KDE** plot shows the smooth distribution of data.\n",
    "- Together, they offer both precise and smoothed views of distributions."
   ]
  },
  {
   "cell_type": "code",
   "execution_count": null,
   "metadata": {},
   "outputs": [],
   "source": [
    "sns.histplot(df['total_bill'], bins=20, kde=True, color=\"green\")\n",
    "plt.title(\"Histogram with KDE - Total Bill\")\n",
    "plt.show()"
   ]
  },
  {
   "cell_type": "markdown",
   "metadata": {},
   "source": [
    "### Histogram (Bars)\n",
    "- Shows how many bills fall into each price range.\n",
    "- Taller bars mean more occurrences.\n",
    "\n",
    "### KDE Curve\n",
    "- Shows the smooth probability distribution.\n",
    "- Peaks indicate where most values are concentrated.\n",
    "\n",
    "### Why Use Them?\n",
    "- Helps understand the shape and spread of data.\n",
    "- Great for detecting patterns, outliers, or skewness."
   ]
  }
 ],
 "metadata": {
  "kernelspec": {
   "display_name": "Python 3",
   "language": "python",
   "name": "python3"
  },
  "language_info": {
   "name": "python"
  }
 },
 "nbformat": 4,
 "nbformat_minor": 5
}
