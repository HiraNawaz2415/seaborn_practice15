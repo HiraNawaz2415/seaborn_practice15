{
 "cells": [
  {
   "cell_type": "markdown",
   "metadata": {},
   "source": [
    "## What is ECDF in Seaborn?\n",
    "\n",
    "ECDF (Empirical Cumulative Distribution Function) is a type of plot that shows how data points are distributed in a dataset. Instead of grouping data into bins (like a histogram), it directly shows the proportion of data points that are less than or equal to each value.\n",
    "\n",
    "Think of it like a growing percentage counter that tells you how much of the data falls below a certain value. 📈\n",
    "\n",
    "### Why Use ECDF?\n",
    "✅ **More Accurate than Histograms** → It doesn’t group data into bins, so you see the exact distribution.\n",
    "✅ **Easier to Compare Distributions** → Useful for comparing multiple datasets.\n",
    "✅ **Works Well for Small and Large Data** → No need to choose bin sizes like in histograms.\n",
    "\n",
    "### How to Read an ECDF Plot?\n",
    "- **X-axis** → Data values (e.g., total bill amounts).\n",
    "- **Y-axis** → The fraction (or percentage) of data points less than or equal to that value.\n",
    "- A steep jump means many points have similar values.\n",
    "- A smooth curve means data is spread out evenly.\n",
    "\n",
    "### Example: Comparing Two Groups\n",
    "🔹 This compares total bill distribution for males and females.\n",
    "🔹 If one line is higher than the other at a given x-value, that group has more values below that point.\n",
    "\n",
    "### When to Use ECDF?\n",
    "- When you need to see exact data distribution without bins.\n",
    "- When comparing multiple groups (using hue).\n",
    "- When analyzing small or large datasets effectively."
   ]
  },
  {
   "cell_type": "code",
   "execution_count": null,
   "metadata": {},
   "outputs": [],
   "source": [
    "import seaborn as sns\n",
    "import matplotlib.pyplot as plt\n",
    "\n",
    "# Load dataset\n",
    "df = sns.load_dataset('tips')\n",
    "\n",
    "# Create ECDF plot\n",
    "sns.ecdfplot(x='total_bill', data=df)\n",
    "\n",
    "plt.show()"
   ]
  },
  {
   "cell_type": "code",
   "execution_count": null,
   "metadata": {},
   "outputs": [],
   "source": [
    "# Comparing ECDF plot for two groups (sex)\n",
    "sns.ecdfplot(x='total_bill', hue='sex', data=df, stat='count')\n",
    "\n",
    "plt.show()"
   ]
  },
  {
   "cell_type": "markdown",
   "metadata": {},
   "source": [
    "## What is displot in Seaborn?\n",
    "\n",
    "`displot()` (short for distribution plot) is a function in Seaborn used to visualize the distribution of a dataset. It can create different types of plots, such as:\n",
    "\n",
    "✅ **Histograms** (default)\n",
    "✅ **KDE (Kernel Density Estimate) plots**\n",
    "✅ **ECDF (Empirical Cumulative Distribution Function) plots**\n",
    "\n",
    "### Why Use `displot()`?\n",
    "✅ Helps understand how data is distributed (e.g., normal, skewed, uniform).\n",
    "✅ Supports multiple types of plots (histogram, KDE, ECDF).\n",
    "✅ Can show multiple distributions using hue for comparisons."
   ]
  },
  {
   "cell_type": "code",
   "execution_count": null,
   "metadata": {},
   "outputs": [],
   "source": [
    "import seaborn as sns\n",
    "import matplotlib.pyplot as plt\n",
    "\n",
    "# Load dataset\n",
    "df = sns.load_dataset('tips')\n",
    "\n",
    "# Create a histogram of total_bill\n",
    "sns.displot(df['total_bill'])\n",
    "\n",
    "plt.show()"
   ]
  },
  {
   "cell_type": "code",
   "execution_count": null,
   "metadata": {},
   "outputs": [],
   "source": [
    "# Create KDE plot\n",
    "sns.displot(df['total_bill'], kind='kde')\n",
    "\n",
    "plt.show()"
   ]
  },
  {
   "cell_type": "code",
   "execution_count": null,
   "metadata": {},
   "outputs": [],
   "source": [
    "# Create ECDF plot\n",
    "sns.displot(df['total_bill'], kind='ecdf')\n",
    "\n",
    "plt.show()"
   ]
  },
  {
   "cell_type": "code",
   "execution_count": null,
   "metadata": {},
   "outputs": [],
   "source": [
    "# Create displot with KDE and rug, using hue to compare by sex\n",
    "sns.displot(data=df, x='total_bill', hue='sex', kde=True, rug=True, multiple='stack')\n",
    "\n",
    "plt.show()"
   ]
  }
 ],
 "metadata": {
  "kernelspec": {
   "display_name": "Python 3",
   "language": "python",
   "name": "python3"
  },
  "language_info": {
   "name": "python"
  }
 },
 "nbformat": 4,
 "nbformat_minor": 5
}
