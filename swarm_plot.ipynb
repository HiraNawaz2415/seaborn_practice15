{
 "cells": [
  {
   "cell_type": "markdown",
   "metadata": {},
   "source": [
    "## Swarm Plot\n",
    "\n",
    "A **swarm plot** is similar to a strip plot, but it arranges the dots so they don't overlap. This makes it easier to see how many points are present at each category level.\n",
    "\n",
    "Think of it as a better version of a strip plot that keeps all points visible by slightly adjusting their positions.\n",
    "\n",
    "Jittering (adding small movement to dots) can be applied to avoid overlap."
   ]
  },
  {
   "cell_type": "code",
   "execution_count": null,
   "metadata": {},
   "outputs": [],
   "source": [
    "# Load dataset\n",
    "df = sns.load_dataset('tips')\n",
    "\n",
    "# Create swarm plot with hue (sex)\n",
    "sns.swarmplot(x='day', y='total_bill', hue='sex', data=df, palette='coolwarm')\n",
    "plt.show()"
   ]
  },
  {
   "cell_type": "code",
   "execution_count": null,
   "metadata": {},
   "outputs": [],
   "source": [
    "# Create a boxplot and overlay it with a swarm plot\n",
    "sns.boxplot(x='day', y='total_bill', data=df)\n",
    "sns.swarmplot(x='day', y='total_bill', data=df, color='black', marker='+', size=10)\n",
    "plt.show()"
   ]
  },
  {
   "cell_type": "code",
   "execution_count": null,
   "metadata": {},
   "outputs": [],
   "source": [
    "import seaborn as sns\n",
    "import matplotlib.pyplot as plt\n",
    "\n",
    "# Load example data\n",
    "tips = sns.load_dataset('tips')\n",
    "\n",
    "# Create strip plot with jitter and custom color palette\n",
    "sns.stripplot(x='day', y='total_bill', data=tips, jitter=True, linewidth=0.2, hue='sex', palette='BuPu', dodge=True)\n",
    "plt.show()"
   ]
  },
  {
   "cell_type": "code",
   "execution_count": null,
   "metadata": {},
   "outputs": [],
   "source": [
    "# Create a strip plot and a violin plot for comparison\n",
    "sns.stripplot(x='day', y='total_bill', data=tips, jitter=0.2)\n",
    "sns.violinplot(x='day', y='total_bill', data=tips, color='Gray')\n",
    "plt.show()"
   ]
  }
 ],
 "metadata": {
  "kernelspec": {
   "display_name": "Python 3",
   "language": "python",
   "name": "python3"
  },
  "language_info": {
   "name": "python"
  }
 },
 "nbformat": 4,
 "nbformat_minor": 5
}
