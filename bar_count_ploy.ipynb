{
 "cells": [
  {
   "cell_type": "markdown",
   "metadata": {},
   "source": [
    "## f) Bar Plot\n",
    "\n",
    "A **bar plot** is used to compare categories (like days of the week) with numerical values (like total bill amounts). It shows the average value for each category."
   ]
  },
  {
   "cell_type": "code",
   "execution_count": null,
   "metadata": {},
   "outputs": [],
   "source": [
    "# Create a bar plot\n",
    "sns.barplot(x='day', y='total_bill', data=df, width=0.5)\n",
    "\n",
    "# Show the plot\n",
    "plt.show()"
   ]
  },
  {
   "cell_type": "markdown",
   "metadata": {},
   "source": [
    "## g) Count Plot\n",
    "\n",
    "A **count plot** is used to count the number of times each category appears in a dataset. It's useful for categorical data."
   ]
  },
  {
   "cell_type": "code",
   "execution_count": null,
   "metadata": {},
   "outputs": [],
   "source": [
    "sns.countplot(x='day', data=df, hue='sex', palette='coolwarm')\n",
    "plt.show()"
   ]
  },
  {
   "cell_type": "markdown",
   "metadata": {},
   "source": [
    "### Explanation of Count Plot\n",
    "- A bar for each day (Thur, Fri, Sat, Sun).\n",
    "- The height of the bar represents how many times that day appears in the dataset.\n",
    "- The `hue='sex'` separates male and female data."
   ]
  },
  {
   "cell_type": "markdown",
   "metadata": {},
   "source": [
    "### Popular Seaborn palettes:\n",
    "- **'Blues'** – Different shades of blue\n",
    "- **'coolwarm'** – Mix of blue & red\n",
    "- **'pastel'** – Soft colors\n",
    "- **'dark'** – Dark colors"
   ]
  },
  {
   "cell_type": "code",
   "execution_count": null,
   "metadata": {},
   "outputs": [],
   "source": [
    "ax = sns.countplot(x='day', data=df, palette='pastel', edgecolor='black')\n",
    "plt.legend=False\n",
    "# Set figure size (width, height)\n",
    "plt.figure(figsize=(10, 5))\n",
    "# Adjust width of bars\n",
    "for bar in ax.patches:\n",
    "    bar.set_width(0.5)  # Change the width (default is around 0.8)\n",
    "plt.show()"
   ]
  }
 ],
 "metadata": {
  "kernelspec": {
   "display_name": "Python 3",
   "language": "python",
   "name": "python3"
  },
  "language_info": {
   "name": "python"
  }
 },
 "nbformat": 4,
 "nbformat_minor": 5
}
