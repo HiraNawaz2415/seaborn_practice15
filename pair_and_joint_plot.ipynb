{
 "cells": [
  {
   "cell_type": "markdown",
   "metadata": {},
   "source": [
    "## What is jointplot in Seaborn?\n",
    "\n",
    "A joint plot is a combination of two plots in one figure:\n",
    "\n",
    "- **Scatter plot** (shows relationship between two numerical variables).\n",
    "- **Histograms** (or KDE plots) for each variable on the sides.\n",
    "\n",
    "It's like a scatter plot + histograms together.\n",
    "\n",
    "### Why Use jointplot()?\n",
    "✅ **Shows correlation** between two variables.\n",
    "✅ Visualizes **distributions** of both variables separately.\n",
    "✅ Provides multiple **styles** (scatter, KDE, hexbin, regression)."
   ]
  },
  {
   "cell_type": "code",
   "execution_count": null,
   "metadata": {},
   "outputs": [],
   "source": [
    "import seaborn as sns\n",
    "import matplotlib.pyplot as plt\n",
    "\n",
    "# Load dataset\n",
    "df = sns.load_dataset('tips')\n",
    "\n",
    "# Create joint plot for total_bill vs tip\n",
    "sns.jointplot(x='total_bill', y='tip', data=df)\n",
    "\n",
    "plt.show()"
   ]
  },
  {
   "cell_type": "code",
   "execution_count": null,
   "metadata": {},
   "outputs": [],
   "source": [
    "# Create joint plot with regression line\n",
    "sns.jointplot(x='total_bill', y='tip', data=df, kind='reg')\n",
    "\n",
    "plt.show()"
   ]
  },
  {
   "cell_type": "code",
   "execution_count": null,
   "metadata": {},
   "outputs": [],
   "source": [
    "# Example 3: Density Plot (kind='kde')\n",
    "sns.jointplot(x='total_bill', y='tip', data=df, kind='kde')\n",
    "\n",
    "plt.show()"
   ]
  },
  {
   "cell_type": "markdown",
   "metadata": {},
   "source": [
    "## What is a Pair Plot in Seaborn?\n",
    "\n",
    "A pair plot in Seaborn is a visualization that displays the relationship between multiple numerical variables in a dataset. It creates a grid of scatter plots for every pair of variables, making it easy to spot relationships and patterns.\n",
    "\n",
    "🧐 Think of a pair plot as a **\"relationship map\"** between numerical columns in your dataset.\n",
    "\n",
    "### Why Use a Pair Plot?\n",
    "✅ See relationships between multiple numeric variables.\n",
    "✅ Identify trends, patterns, and correlations in data.\n",
    "✅ Spot outliers easily.\n",
    "✅ Great for exploring new datasets quickly."
   ]
  },
  {
   "cell_type": "code",
   "execution_count": null,
   "metadata": {},
   "outputs": [],
   "source": [
    "import seaborn as sns\n",
    "import matplotlib.pyplot as plt\n",
    "\n",
    "# Load dataset\n",
    "df = sns.load_dataset('penguins')\n",
    "\n",
    "# Create pair plot\n",
    "sns.pairplot(df)\n",
    "\n",
    "plt.show()"
   ]
  },
  {
   "cell_type": "markdown",
   "metadata": {},
   "source": [
    "🔹 This creates a scatter plot for every pair of numerical columns.\n",
    "🔹 The diagonal plots show histograms of individual variables.\n",
    "🔹 Each scatter plot shows the relationship between two variables.\n",
    "\n",
    "### When to Use a Pair Plot?\n",
    "✅ When you want to explore relationships between multiple numerical variables.\n",
    "✅ When you need a quick overview of data patterns.\n",
    "✅ Before applying machine learning to understand variable correlations."
   ]
  },
  {
   "cell_type": "code",
   "execution_count": null,
   "metadata": {},
   "outputs": [],
   "source": [
    "# Pair plot with hue to differentiate species\n",
    "sns.pairplot(df, hue='species')\n",
    "\n",
    "plt.show()"
   ]
  },
  {
   "cell_type": "markdown",
   "metadata": {},
   "source": [
    "**Change the diagonal plot kind to KDE, HIST or None**"
   ]
  },
  {
   "cell_type": "code",
   "execution_count": null,
   "metadata": {},
   "outputs": [],
   "source": [
    "sns.pairplot(df, hue='species', diag_kind='kde')\n",
    "\n",
    "plt.show()"
   ]
  },
  {
   "cell_type": "code",
   "execution_count": null,
   "metadata": {},
   "outputs": [],
   "source": [
    "sns.pairplot(df, hue='species', kind='reg')\n",
    "\n",
    "plt.show()"
   ]
  },
  {
   "cell_type": "markdown",
   "metadata": {},
   "source": [
    "**Adding hue to pair plot**"
   ]
  },
  {
   "cell_type": "code",
   "execution_count": null,
   "metadata": {},
   "outputs": [],
   "source": [
    "sns.pairplot(df, hue='species', kind='scatter')\n",
    "\n",
    "plt.show()"
   ]
  },
  {
   "cell_type": "markdown",
   "metadata": {},
   "source": [
    "**Showing only the lower triangle using CORNER argument**"
   ]
  },
  {
   "cell_type": "code",
   "execution_count": null,
   "metadata": {},
   "outputs": [],
   "source": [
    "sns.pairplot(df, hue='species', corner=True)\n",
    "\n",
    "plt.show()"
   ]
  },
  {
   "cell_type": "markdown",
   "metadata": {},
   "source": [
    "**Making changes to specific to diagonal and Non-Diagonal plots separately**"
   ]
  },
  {
   "cell_type": "code",
   "execution_count": null,
   "metadata": {},
   "outputs": [],
   "source": [
    "# Create pair plot with histograms on the diagonal\n",
    "sns.pairplot(df, diag_kind='hist', diag_kws={'color': 'green'}, plot_kws={'color': 'red'})\n",
    "\n",
    "plt.show()"
   ]
  },
  {
   "cell_type": "markdown",
   "metadata": {},
   "source": [
    "**Creating KDE plot on top of the Pair plot using map_lower or upper**"
   ]
  },
  {
   "cell_type": "code",
   "execution_count": null,
   "metadata": {},
   "outputs": [],
   "source": [
    "# Create pair plot with histograms on the diagonal\n",
    "l = sns.pairplot(df, diag_kind='hist', diag_kws={'color': 'green'}, plot_kws={'color': 'red'})\n",
    "l.map_lower(sns.kdeplot)\n",
    "\n",
    "plt.show()"
   ]
  }
 ],
 "metadata": {
  "kernelspec": {
   "display_name": "Python 3",
   "language": "python",
   "name": "python3"
  },
  "language_info": {
   "name": "python"
  }
 },
 "nbformat": 4,
 "nbformat_minor": 5
}
